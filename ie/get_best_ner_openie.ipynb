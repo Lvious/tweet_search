{
 "cells": [
  {
   "cell_type": "code",
   "execution_count": 6,
   "metadata": {
    "collapsed": true
   },
   "outputs": [],
   "source": [
    "import pandas as pd"
   ]
  },
  {
   "cell_type": "code",
   "execution_count": 2,
   "metadata": {
    "collapsed": true
   },
   "outputs": [],
   "source": [
    "import pymongo\n",
    "from pymongo import InsertOne, DeleteMany, ReplaceOne, UpdateOne\n",
    "from pymongo.errors import BulkWriteError\n",
    "client = pymongo.MongoClient('192.168.31.87:27017')\n",
    "db = client.tweet"
   ]
  },
  {
   "cell_type": "code",
   "execution_count": 26,
   "metadata": {
    "collapsed": false
   },
   "outputs": [
    {
     "name": "stdout",
     "output_type": "stream",
     "text": [
      "South Thailand insurgency:\n",
      "Empty DataFrame\n",
      "Columns: []\n",
      "Index: []\n",
      "{}\n",
      "France plans to make vaccines mandatory for children in 2018. (Newsweek)\n",
      "                                    object relation   subject\n",
      "0                                 vaccines     make    France\n",
      "1            vaccines for children in 2018     make    France\n",
      "2                    vaccines for children     make    France\n",
      "3          vaccines mandatory for children     make    France\n",
      "4  vaccines mandatory for children in 2018     make    France\n",
      "5                       vaccines mandatory     make    France\n",
      "6                                     2018    is in  children\n",
      "{'object': u'vaccines mandatory for children in 2018', 'relation': u'make', 'subject': u'France'}\n",
      "United States President Barack Obama orders 1500 more troops into Iraq. (The New York Times)\n",
      "          object         relation       subject\n",
      "0  United States  is President of  Barack Obama\n",
      "1  United States               is  Barack Obama\n",
      "2           Iraq          is into  Barack Obama\n",
      "{'object': u'United States', 'relation': u'is into', 'subject': u'Barack Obama'}\n",
      "At least eight people have been killed in violence across Iraq. (AFP via Al-Aribya)\n",
      "                                object relation subject\n",
      "0              have killed in violence     have  people\n",
      "1  have killed in violence across Iraq     have  people\n",
      "2                          have killed     have  people\n",
      "3              have killed across Iraq     have  people\n",
      "{'object': u'have killed in violence across Iraq', 'relation': u'have', 'subject': u'people'}\n",
      "A former aide of Chris Christie accuses the governor of having knowledge of the event. (USA Today)\n",
      "Empty DataFrame\n",
      "Columns: []\n",
      "Index: []\n",
      "{}\n",
      "Voters in Costa Rica go to the polls for a general election. (TicoTimes)\n",
      "                       object relation subject\n",
      "0                  Costa Rica    is in  Voters\n",
      "1          polls for election    go to  Voters\n",
      "2                       polls    go to  Voters\n",
      "3  polls for general election    go to  Voters\n",
      "{'object': u'polls for general election', 'relation': u'go to', 'subject': u'Voters'}\n",
      "The event is concluded. (One India)\n",
      "      object relation subject\n",
      "0  concluded       is   event\n",
      "{'object': u'concluded', 'relation': u'is', 'subject': u'event'}\n",
      "Algeria officially lifts its 19-year-old state of emergency. (CNN)\n",
      "                               object          relation  subject\n",
      "0              its state of emergency  officially lifts  Algeria\n",
      "1                           its state  officially lifts  Algeria\n",
      "2  its 19-year-old state of emergency  officially lifts  Algeria\n",
      "3  its 19-year-old state of emergency             lifts  Algeria\n",
      "4              its state of emergency             lifts  Algeria\n",
      "5                           its state             lifts  Algeria\n",
      "6               its 19-year-old state             lifts  Algeria\n",
      "7               its 19-year-old state  officially lifts  Algeria\n",
      "{'object': u'its 19-year-old state of emergency', 'relation': u'lifts', 'subject': u'Algeria'}\n",
      "The death toll from the wildfire that hit the U.S. town of Gatlinburg, Tennessee, rises to 13. (AP)\n",
      "  object  relation     subject\n",
      "0     13  rises to  death toll\n",
      "{'object': u'13', 'relation': u'rises to', 'subject': u'death toll'}\n",
      "A series of attacks across Iraq kills 22 Shiite pilgrims. (The Daily Star)\n",
      "               object relation  subject\n",
      "0         22 pilgrims    kills  attacks\n",
      "1  22 Shiite pilgrims    kills  attacks\n",
      "{'object': u'22 Shiite pilgrims', 'relation': u'kills', 'subject': u'attacks'}\n"
     ]
    }
   ],
   "source": [
    "for i in db.current_event.find({}).limit(10):\n",
    "    print i['event']['description']\n",
    "    print pd.DataFrame.from_dict(i['ie']['openie'])\n",
    "    print best_openie(i['ie']['openie'])"
   ]
  },
  {
   "cell_type": "code",
   "execution_count": 17,
   "metadata": {
    "collapsed": true
   },
   "outputs": [],
   "source": [
    "def get_most_common(items):\n",
    "    count = Counter(items)\n",
    "    return count.most_common()[0][0]"
   ]
  },
  {
   "cell_type": "code",
   "execution_count": 12,
   "metadata": {
    "collapsed": true
   },
   "outputs": [],
   "source": [
    "from collections import Counter"
   ]
  },
  {
   "cell_type": "code",
   "execution_count": 13,
   "metadata": {
    "collapsed": true
   },
   "outputs": [],
   "source": [
    "count = Counter(openie_df.subject)"
   ]
  },
  {
   "cell_type": "code",
   "execution_count": 16,
   "metadata": {
    "collapsed": false
   },
   "outputs": [
    {
     "data": {
      "text/plain": [
       "[(u'attacks', 2)]"
      ]
     },
     "execution_count": 16,
     "metadata": {},
     "output_type": "execute_result"
    }
   ],
   "source": [
    "count.most_common()"
   ]
  },
  {
   "cell_type": "code",
   "execution_count": 18,
   "metadata": {
    "collapsed": false
   },
   "outputs": [
    {
     "data": {
      "text/plain": [
       "u'attacks'"
      ]
     },
     "execution_count": 18,
     "metadata": {},
     "output_type": "execute_result"
    }
   ],
   "source": [
    "get_most_common(openie_df.subject)"
   ]
  },
  {
   "cell_type": "code",
   "execution_count": 22,
   "metadata": {
    "collapsed": true
   },
   "outputs": [],
   "source": [
    "def best_openie(openies):\n",
    "    if len(openies) == 0:\n",
    "        return {}\n",
    "    openie_df = pd.DataFrame.from_dict(openies)\n",
    "    object_lsit = openie_df['object'].tolist()\n",
    "    object_,lenth  = object_lsit[0],len(object_lsit[0])\n",
    "    for i in object_lsit[1:]:\n",
    "        if len(i) > lenth:\n",
    "            object_,lenth = i,len(i)\n",
    "    return {'subject':get_most_common(openie_df.subject),\n",
    "            'relation':get_most_common(openie_df.relation),\n",
    "            'object':object_}"
   ]
  },
  {
   "cell_type": "code",
   "execution_count": 23,
   "metadata": {
    "collapsed": false
   },
   "outputs": [
    {
     "data": {
      "text/plain": [
       "{}"
      ]
     },
     "execution_count": 23,
     "metadata": {},
     "output_type": "execute_result"
    }
   ],
   "source": [
    "best_openie(i['ie']['openie'])"
   ]
  },
  {
   "cell_type": "code",
   "execution_count": null,
   "metadata": {
    "collapsed": true
   },
   "outputs": [],
   "source": []
  }
 ],
 "metadata": {
  "anaconda-cloud": {},
  "kernelspec": {
   "display_name": "Python [default]",
   "language": "python",
   "name": "python2"
  },
  "language_info": {
   "codemirror_mode": {
    "name": "ipython",
    "version": 2
   },
   "file_extension": ".py",
   "mimetype": "text/x-python",
   "name": "python",
   "nbconvert_exporter": "python",
   "pygments_lexer": "ipython2",
   "version": "2.7.12"
  },
  "toc": {
   "colors": {
    "hover_highlight": "#DAA520",
    "navigate_num": "#000000",
    "navigate_text": "#333333",
    "running_highlight": "#FF0000",
    "selected_highlight": "#FFD700",
    "sidebar_border": "#EEEEEE",
    "wrapper_background": "#FFFFFF"
   },
   "moveMenuLeft": true,
   "nav_menu": {
    "height": "12px",
    "width": "252px"
   },
   "navigate_menu": true,
   "number_sections": true,
   "sideBar": true,
   "threshold": 4,
   "toc_cell": false,
   "toc_section_display": "block",
   "toc_window_display": false,
   "widenNotebook": false
  }
 },
 "nbformat": 4,
 "nbformat_minor": 2
}
