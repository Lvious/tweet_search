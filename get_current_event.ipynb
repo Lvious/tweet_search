{
 "cells": [
  {
   "cell_type": "code",
   "execution_count": 97,
   "metadata": {
    "collapsed": true
   },
   "outputs": [],
   "source": [
    "from bs4 import BeautifulSoup"
   ]
  },
  {
   "cell_type": "code",
   "execution_count": 98,
   "metadata": {
    "collapsed": false
   },
   "outputs": [],
   "source": [
    "soup = BeautifulSoup(x.html(),'lxml')"
   ]
  },
  {
   "cell_type": "code",
   "execution_count": 99,
   "metadata": {
    "collapsed": true
   },
   "outputs": [],
   "source": [
    "tables = soup.find_all('table',attrs={'class':'vevent'})"
   ]
  },
  {
   "cell_type": "code",
   "execution_count": 144,
   "metadata": {
    "collapsed": true
   },
   "outputs": [],
   "source": [
    "t = tables[4]"
   ]
  },
  {
   "cell_type": "code",
   "execution_count": 145,
   "metadata": {
    "collapsed": false
   },
   "outputs": [],
   "source": [
    "pdiv = t.find_previous_sibling()"
   ]
  },
  {
   "cell_type": "code",
   "execution_count": 146,
   "metadata": {
    "collapsed": false
   },
   "outputs": [],
   "source": [
    "date = pdiv.get('id')"
   ]
  },
  {
   "cell_type": "code",
   "execution_count": 147,
   "metadata": {
    "collapsed": false
   },
   "outputs": [
    {
     "data": {
      "text/plain": [
       "'2017_September_05'"
      ]
     },
     "execution_count": 147,
     "metadata": {},
     "output_type": "execute_result"
    }
   ],
   "source": [
    "date"
   ]
  },
  {
   "cell_type": "code",
   "execution_count": 148,
   "metadata": {
    "collapsed": true
   },
   "outputs": [],
   "source": [
    "td = t.find('td',attrs={'class':'description'})"
   ]
  },
  {
   "cell_type": "code",
   "execution_count": 181,
   "metadata": {
    "collapsed": false
   },
   "outputs": [
    {
     "name": "stdout",
     "output_type": "stream",
     "text": [
      "('2017_September_05', u'Armed conflicts and attacks', u'Syrian Civil War\\nSiege of Deir ez-Zor (2014\\u201317)\\nThe Syrian Army lifts the 28-month-long siege of Deir ez-Zor by the Islamic State of Iraq and the Levant. (Reuters) (BBC News)')\n",
      "('2017_September_05', u'Armed conflicts and attacks', u'2016\\u201317 Rohingya persecution in Myanmar\\nMore than 123,000 Rohingya refugees have fled Myanmar and crossed into Bangladesh due to escalating violence by the Myanmar Army. (BBC News)\\nBurmese State Counselor Aung San Suu Kyi receives international criticism and pressure urging her to help the Rohingya. (Reuters)')\n",
      "('2017_September_05', u'Disasters and accidents', u'2017 Atlantic hurricane season\\nHurricane Irma\\nHurricane Irma strengthens to a maximum Category 5 hurricane, becoming the strongest Atlantic hurricane since 2005\\'s Hurricane Wilma in terms of maximum sustained winds, described as \"extremely dangerous.\" The National Hurricane Center (NHC) predicts that Irma could strengthen even more due to favorable conditions. (Washington Post)\\nThe NHC says Irma is the most powerful Atlantic storm ever recorded outside the Caribbean Sea and the Gulf of Mexico. Ahead of Irma\\'s landing,  President Donald Trump issues a state of emergency declaration for Florida, Puerto Rico, and the U.S. Virgin Islands.  (Reuters) (The Washington Examiner)')\n",
      "('2017_September_05', u'International relations', u'India\\u2013Myanmar relations\\nIndian Prime Minister Narendra Modi heads to Myanmar for a state visit. (The Hindu)')\n",
      "('2017_September_05', u'International relations', u'2017 North Korea crisis\\nJapan\\u2013United States relations, South Korea\\u2013United States relations\\nAmid tensions from South Korea, U.S. President Donald Trump announces that he is \"allowing Japan and South Korea to buy a substantially increased amount of highly sophisticated military equipment from the United States.\" (The Independent)')\n",
      "('2017_September_05', u'Law and crime', u'Journalists killed in India\\nProminent Indian journalist and Lankesh Patrike editor Gauri Lankesh is shot dead by unidentified men outside her house in the city of Bengaluru. (Reuters)')\n",
      "('2017_September_05', u'Law and crime', u'Australian Marriage Law Postal Survey (Same-sex marriage)\\nThe High Court of Australia receives a complaint against the Australian Marriage Law Postal Survey citing the postal survey as \"unique and offensive.\" (The Guardian)')\n",
      "('2017_September_05', u'Politics and elections', u'Politics of Taiwan\\nTainan Mayor William Lai Ching-te is appointed as the new Premier by the President of the Republic of China Tsai Ing-wen. (AP)')\n",
      "('2017_September_05', u'Politics and elections', u'Deferred Action for Childhood Arrivals\\nThe Trump Administration announces that, during the next six months, it will be ending the DACA program that has halted the deportation of about 800,000 people who were brought to the U.S. illegally as children.  Congress is called upon to pass legislation to correct the situation. (The New York Times)')\n",
      "('2017_September_05', u'Sports', u'2017\\u201318 NBA season\\nBillionaire investor Tilman Fertitta buys the Houston Rockets NBA basketball team for US$2.2 billion. (Houston Chronicle) (ESPN)')\n"
     ]
    }
   ],
   "source": [
    "for type_,ul in zip([dl.get_text() for dl in td.find_all('dl')],[ul for ul in td.find_all('ul',recursive=False)]):\n",
    "    for li in ul.find_all('li',recursive=False):\n",
    "        print (date,type_,li.get_text())"
   ]
  },
  {
   "cell_type": "code",
   "execution_count": 213,
   "metadata": {
    "collapsed": true
   },
   "outputs": [],
   "source": [
    "months = [\"January\",\"February\",\"March\",\"April\",\"May\",\"June\",\"July\",\"August\",\"September\",\"October\",\"November\",\"December\"]"
   ]
  },
  {
   "cell_type": "code",
   "execution_count": null,
   "metadata": {
    "collapsed": true
   },
   "outputs": [],
   "source": []
  },
  {
   "cell_type": "code",
   "execution_count": 215,
   "metadata": {
    "collapsed": true
   },
   "outputs": [],
   "source": [
    "import re"
   ]
  },
  {
   "cell_type": "code",
   "execution_count": 184,
   "metadata": {
    "collapsed": true
   },
   "outputs": [],
   "source": [
    "import requests\n",
    "headers = {'User-Agent':'Mozilla/5.0 (Windows NT 10.0; Win64; x64) AppleWebKit/537.36 (KHTML, like Gecko) Chrome/58.0.3029.81 Safari/537.36'}"
   ]
  },
  {
   "cell_type": "code",
   "execution_count": 189,
   "metadata": {
    "collapsed": true
   },
   "outputs": [],
   "source": [
    "import pdb"
   ]
  },
  {
   "cell_type": "code",
   "execution_count": 230,
   "metadata": {
    "collapsed": true
   },
   "outputs": [],
   "source": [
    "def trans_date(date_str):\n",
    "    month = date_str.split('_')[1]\n",
    "    month_num = months.index(month)+1\n",
    "    date_str = date_str.replace(month,'0'+str(month_num) if month_num<10 else str(month_num))\n",
    "    date_str = date_str.replace('_','-')\n",
    "    return date_str"
   ]
  },
  {
   "cell_type": "code",
   "execution_count": 232,
   "metadata": {
    "collapsed": false
   },
   "outputs": [
    {
     "data": {
      "text/plain": [
       "'2017-10-01'"
      ]
     },
     "execution_count": 232,
     "metadata": {},
     "output_type": "execute_result"
    }
   ],
   "source": [
    "trans_date('2017_October_01')"
   ]
  },
  {
   "cell_type": "code",
   "execution_count": 264,
   "metadata": {
    "collapsed": true
   },
   "outputs": [],
   "source": [
    "def get_events_from_page(page_url):\n",
    "    res = requests.get(page_url,headers=headers)\n",
    "    soup = BeautifulSoup(res.text,'lxml')\n",
    "    #pdb.set_trace()\n",
    "    tables = soup.find_all('table',attrs={'class':'vevent'})\n",
    "    events = []\n",
    "    for t in tables:\n",
    "        date = t.find_previous_sibling().get('id')\n",
    "        td = t.find('td',attrs={'class':'description'})\n",
    "        for type_,ul in zip([dl.get_text() for dl in td.find_all('dl')],[ul for ul in td.find_all('ul',recursive=False)]):\n",
    "            for li in ul.find_all('li',recursive=False):\n",
    "                #pdb.set_trace()\n",
    "                try:\n",
    "                    events.append({'date':trans_date(date),\n",
    "                                   'class':type_.strip(),\n",
    "                                   'title':li.a.get_text(),\n",
    "                                   'description':li.ul.get_text().strip()})\n",
    "                except:\n",
    "                    pass\n",
    "    return events"
   ]
  },
  {
   "cell_type": "code",
   "execution_count": 265,
   "metadata": {
    "collapsed": false
   },
   "outputs": [],
   "source": [
    "a = get_events_from_page('https://en.wikipedia.org/wiki/Portal:Current_events/July_2017')"
   ]
  },
  {
   "cell_type": "code",
   "execution_count": null,
   "metadata": {
    "collapsed": false
   },
   "outputs": [],
   "source": [
    "a"
   ]
  },
  {
   "cell_type": "code",
   "execution_count": 243,
   "metadata": {
    "collapsed": true
   },
   "outputs": [],
   "source": [
    "years = [2010+i for i in range(8)]"
   ]
  },
  {
   "cell_type": "code",
   "execution_count": 244,
   "metadata": {
    "collapsed": false
   },
   "outputs": [
    {
     "data": {
      "text/plain": [
       "[2010, 2011, 2012, 2013, 2014, 2015, 2016, 2017]"
      ]
     },
     "execution_count": 244,
     "metadata": {},
     "output_type": "execute_result"
    }
   ],
   "source": [
    "years"
   ]
  },
  {
   "cell_type": "code",
   "execution_count": 245,
   "metadata": {
    "collapsed": true
   },
   "outputs": [],
   "source": [
    "Portal_url = 'https://en.wikipedia.org/wiki/Portal:Current_events/'"
   ]
  },
  {
   "cell_type": "code",
   "execution_count": 252,
   "metadata": {
    "collapsed": true
   },
   "outputs": [],
   "source": [
    "page_urls = [Portal_url+m+'_'+str(y) for y in years for m in months ]"
   ]
  },
  {
   "cell_type": "code",
   "execution_count": 253,
   "metadata": {
    "collapsed": false
   },
   "outputs": [
    {
     "data": {
      "text/plain": [
       "['https://en.wikipedia.org/wiki/Portal:Current_events/July_2010',\n",
       " 'https://en.wikipedia.org/wiki/Portal:Current_events/August_2010',\n",
       " 'https://en.wikipedia.org/wiki/Portal:Current_events/September_2010',\n",
       " 'https://en.wikipedia.org/wiki/Portal:Current_events/October_2010',\n",
       " 'https://en.wikipedia.org/wiki/Portal:Current_events/November_2010',\n",
       " 'https://en.wikipedia.org/wiki/Portal:Current_events/December_2010',\n",
       " 'https://en.wikipedia.org/wiki/Portal:Current_events/January_2011',\n",
       " 'https://en.wikipedia.org/wiki/Portal:Current_events/February_2011',\n",
       " 'https://en.wikipedia.org/wiki/Portal:Current_events/March_2011',\n",
       " 'https://en.wikipedia.org/wiki/Portal:Current_events/April_2011',\n",
       " 'https://en.wikipedia.org/wiki/Portal:Current_events/May_2011',\n",
       " 'https://en.wikipedia.org/wiki/Portal:Current_events/June_2011',\n",
       " 'https://en.wikipedia.org/wiki/Portal:Current_events/July_2011',\n",
       " 'https://en.wikipedia.org/wiki/Portal:Current_events/August_2011',\n",
       " 'https://en.wikipedia.org/wiki/Portal:Current_events/September_2011',\n",
       " 'https://en.wikipedia.org/wiki/Portal:Current_events/October_2011',\n",
       " 'https://en.wikipedia.org/wiki/Portal:Current_events/November_2011',\n",
       " 'https://en.wikipedia.org/wiki/Portal:Current_events/December_2011',\n",
       " 'https://en.wikipedia.org/wiki/Portal:Current_events/January_2012',\n",
       " 'https://en.wikipedia.org/wiki/Portal:Current_events/February_2012',\n",
       " 'https://en.wikipedia.org/wiki/Portal:Current_events/March_2012',\n",
       " 'https://en.wikipedia.org/wiki/Portal:Current_events/April_2012',\n",
       " 'https://en.wikipedia.org/wiki/Portal:Current_events/May_2012',\n",
       " 'https://en.wikipedia.org/wiki/Portal:Current_events/June_2012',\n",
       " 'https://en.wikipedia.org/wiki/Portal:Current_events/July_2012',\n",
       " 'https://en.wikipedia.org/wiki/Portal:Current_events/August_2012',\n",
       " 'https://en.wikipedia.org/wiki/Portal:Current_events/September_2012',\n",
       " 'https://en.wikipedia.org/wiki/Portal:Current_events/October_2012',\n",
       " 'https://en.wikipedia.org/wiki/Portal:Current_events/November_2012',\n",
       " 'https://en.wikipedia.org/wiki/Portal:Current_events/December_2012',\n",
       " 'https://en.wikipedia.org/wiki/Portal:Current_events/January_2013',\n",
       " 'https://en.wikipedia.org/wiki/Portal:Current_events/February_2013',\n",
       " 'https://en.wikipedia.org/wiki/Portal:Current_events/March_2013',\n",
       " 'https://en.wikipedia.org/wiki/Portal:Current_events/April_2013',\n",
       " 'https://en.wikipedia.org/wiki/Portal:Current_events/May_2013',\n",
       " 'https://en.wikipedia.org/wiki/Portal:Current_events/June_2013',\n",
       " 'https://en.wikipedia.org/wiki/Portal:Current_events/July_2013',\n",
       " 'https://en.wikipedia.org/wiki/Portal:Current_events/August_2013',\n",
       " 'https://en.wikipedia.org/wiki/Portal:Current_events/September_2013',\n",
       " 'https://en.wikipedia.org/wiki/Portal:Current_events/October_2013',\n",
       " 'https://en.wikipedia.org/wiki/Portal:Current_events/November_2013',\n",
       " 'https://en.wikipedia.org/wiki/Portal:Current_events/December_2013',\n",
       " 'https://en.wikipedia.org/wiki/Portal:Current_events/January_2014',\n",
       " 'https://en.wikipedia.org/wiki/Portal:Current_events/February_2014',\n",
       " 'https://en.wikipedia.org/wiki/Portal:Current_events/March_2014',\n",
       " 'https://en.wikipedia.org/wiki/Portal:Current_events/April_2014',\n",
       " 'https://en.wikipedia.org/wiki/Portal:Current_events/May_2014',\n",
       " 'https://en.wikipedia.org/wiki/Portal:Current_events/June_2014',\n",
       " 'https://en.wikipedia.org/wiki/Portal:Current_events/July_2014',\n",
       " 'https://en.wikipedia.org/wiki/Portal:Current_events/August_2014',\n",
       " 'https://en.wikipedia.org/wiki/Portal:Current_events/September_2014',\n",
       " 'https://en.wikipedia.org/wiki/Portal:Current_events/October_2014',\n",
       " 'https://en.wikipedia.org/wiki/Portal:Current_events/November_2014',\n",
       " 'https://en.wikipedia.org/wiki/Portal:Current_events/December_2014',\n",
       " 'https://en.wikipedia.org/wiki/Portal:Current_events/January_2015',\n",
       " 'https://en.wikipedia.org/wiki/Portal:Current_events/February_2015',\n",
       " 'https://en.wikipedia.org/wiki/Portal:Current_events/March_2015',\n",
       " 'https://en.wikipedia.org/wiki/Portal:Current_events/April_2015',\n",
       " 'https://en.wikipedia.org/wiki/Portal:Current_events/May_2015',\n",
       " 'https://en.wikipedia.org/wiki/Portal:Current_events/June_2015',\n",
       " 'https://en.wikipedia.org/wiki/Portal:Current_events/July_2015',\n",
       " 'https://en.wikipedia.org/wiki/Portal:Current_events/August_2015',\n",
       " 'https://en.wikipedia.org/wiki/Portal:Current_events/September_2015',\n",
       " 'https://en.wikipedia.org/wiki/Portal:Current_events/October_2015',\n",
       " 'https://en.wikipedia.org/wiki/Portal:Current_events/November_2015',\n",
       " 'https://en.wikipedia.org/wiki/Portal:Current_events/December_2015',\n",
       " 'https://en.wikipedia.org/wiki/Portal:Current_events/January_2016',\n",
       " 'https://en.wikipedia.org/wiki/Portal:Current_events/February_2016',\n",
       " 'https://en.wikipedia.org/wiki/Portal:Current_events/March_2016',\n",
       " 'https://en.wikipedia.org/wiki/Portal:Current_events/April_2016',\n",
       " 'https://en.wikipedia.org/wiki/Portal:Current_events/May_2016',\n",
       " 'https://en.wikipedia.org/wiki/Portal:Current_events/June_2016',\n",
       " 'https://en.wikipedia.org/wiki/Portal:Current_events/July_2016',\n",
       " 'https://en.wikipedia.org/wiki/Portal:Current_events/August_2016',\n",
       " 'https://en.wikipedia.org/wiki/Portal:Current_events/September_2016',\n",
       " 'https://en.wikipedia.org/wiki/Portal:Current_events/October_2016',\n",
       " 'https://en.wikipedia.org/wiki/Portal:Current_events/November_2016',\n",
       " 'https://en.wikipedia.org/wiki/Portal:Current_events/December_2016',\n",
       " 'https://en.wikipedia.org/wiki/Portal:Current_events/January_2017',\n",
       " 'https://en.wikipedia.org/wiki/Portal:Current_events/February_2017',\n",
       " 'https://en.wikipedia.org/wiki/Portal:Current_events/March_2017',\n",
       " 'https://en.wikipedia.org/wiki/Portal:Current_events/April_2017',\n",
       " 'https://en.wikipedia.org/wiki/Portal:Current_events/May_2017',\n",
       " 'https://en.wikipedia.org/wiki/Portal:Current_events/June_2017',\n",
       " 'https://en.wikipedia.org/wiki/Portal:Current_events/July_2017',\n",
       " 'https://en.wikipedia.org/wiki/Portal:Current_events/August_2017',\n",
       " 'https://en.wikipedia.org/wiki/Portal:Current_events/September_2017',\n",
       " 'https://en.wikipedia.org/wiki/Portal:Current_events/October_2017',\n",
       " 'https://en.wikipedia.org/wiki/Portal:Current_events/November_2017',\n",
       " 'https://en.wikipedia.org/wiki/Portal:Current_events/December_2017']"
      ]
     },
     "execution_count": 253,
     "metadata": {},
     "output_type": "execute_result"
    }
   ],
   "source": [
    "page_urls[6:]"
   ]
  },
  {
   "cell_type": "code",
   "execution_count": 254,
   "metadata": {
    "collapsed": true
   },
   "outputs": [],
   "source": [
    "import pymongo"
   ]
  },
  {
   "cell_type": "code",
   "execution_count": 255,
   "metadata": {
    "collapsed": true
   },
   "outputs": [],
   "source": [
    "client = pymongo.MongoClient('101.132.182.124:27027')"
   ]
  },
  {
   "cell_type": "code",
   "execution_count": 256,
   "metadata": {
    "collapsed": true
   },
   "outputs": [],
   "source": [
    "db = client.tweet"
   ]
  },
  {
   "cell_type": "code",
   "execution_count": null,
   "metadata": {
    "collapsed": true
   },
   "outputs": [],
   "source": [
    "requests = [UpdateOne({'_id': _id,'cluster':None}, {'$set': {'cluster':{'cluster_label':clusters[index],'cluster_hash':cluster_hash}}}) for index,_id in tqdm(enumerate(ids))]\n",
    "result = db.test.bulk_write(requests)\n",
    "print(result.bulk_api_result)"
   ]
  },
  {
   "cell_type": "code",
   "execution_count": null,
   "metadata": {
    "collapsed": true
   },
   "outputs": [],
   "source": []
  }
 ],
 "metadata": {
  "anaconda-cloud": {},
  "kernelspec": {
   "display_name": "Python [default]",
   "language": "python",
   "name": "python2"
  },
  "language_info": {
   "codemirror_mode": {
    "name": "ipython",
    "version": 2
   },
   "file_extension": ".py",
   "mimetype": "text/x-python",
   "name": "python",
   "nbconvert_exporter": "python",
   "pygments_lexer": "ipython2",
   "version": "2.7.12"
  },
  "toc": {
   "colors": {
    "hover_highlight": "#DAA520",
    "navigate_num": "#000000",
    "navigate_text": "#333333",
    "running_highlight": "#FF0000",
    "selected_highlight": "#FFD700",
    "sidebar_border": "#EEEEEE",
    "wrapper_background": "#FFFFFF"
   },
   "moveMenuLeft": true,
   "nav_menu": {
    "height": "12px",
    "width": "252px"
   },
   "navigate_menu": true,
   "number_sections": true,
   "sideBar": true,
   "threshold": 4,
   "toc_cell": false,
   "toc_section_display": "block",
   "toc_window_display": false,
   "widenNotebook": false
  }
 },
 "nbformat": 4,
 "nbformat_minor": 2
}
