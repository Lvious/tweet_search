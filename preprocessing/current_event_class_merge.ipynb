{
 "cells": [
  {
   "cell_type": "code",
   "execution_count": 1,
   "metadata": {
    "collapsed": true
   },
   "outputs": [],
   "source": [
    "import pymongo\n",
    "from pymongo import InsertOne,UpdateOne\n",
    "from pymongo.errors import BulkWriteError\n",
    "client = pymongo.MongoClient('101.132.114.125:27017')\n",
    "db = client.tweet"
   ]
  },
  {
   "cell_type": "code",
   "execution_count": 2,
   "metadata": {
    "collapsed": true
   },
   "outputs": [],
   "source": [
    "from tqdm import tqdm\n",
    "from datetime import datetime,timedelta"
   ]
  },
  {
   "cell_type": "raw",
   "metadata": {
    "collapsed": true
   },
   "source": [
    "classses = []\n",
    "for i in db.current_event.find({},{'event.class':1}):\n",
    "    classses.append(i['event']['class'])\n",
    "\n",
    "len(classses)\n",
    "\n",
    "from collections import Counter\n",
    "\n",
    "count = Counter(classses)"
   ]
  },
  {
   "cell_type": "raw",
   "metadata": {
    "collapsed": true
   },
   "source": [
    "def is_type_one(type_str):\n",
    "    type_str = type_str.lower()\n",
    "    return 'armed' in type_str or 'attack' in type_str or 'conflict' in type_str\n",
    "\n",
    "def is_type_two(type_str):\n",
    "    type_str = type_str.lower()\n",
    "    return 'disaster' in type_str or 'accident' in type_str\n",
    "\n",
    "def is_type_three(type_str):\n",
    "    type_str = type_str.lower()\n",
    "    return 'law' in type_str or 'crime' in type_str\n",
    "\n",
    "def is_type_four(type_str):\n",
    "    type_str = type_str.lower()\n",
    "    return 'politic' in type_str or 'election' in type_str\n",
    "\n",
    "def is_type_five(type_str):\n",
    "    type_str = type_str.lower()\n",
    "    return 'international' in type_str or 'relation' in type_str\n",
    "\n",
    "def get_type(type_str):\n",
    "    type_str = type_str.lower()\n",
    "    if 'armed' in type_str or 'attack' in type_str or 'conflict' in type_str:\n",
    "        return 1\n",
    "    elif 'disaster' in type_str or 'accident' in type_str:\n",
    "        return 2\n",
    "    elif 'law' in type_str or 'crime' in type_str:\n",
    "        return 3\n",
    "    elif 'politic' in type_str or 'election' in type_str:\n",
    "        return 4\n",
    "    elif 'international' in type_str or 'relation' in type_str:\n",
    "        return 5\n",
    "    elif 'science' in type_str or 'technology' in type_str:\n",
    "        return 6\n",
    "    elif 'business' in type_str or 'econom' in type_str:\n",
    "        return 7\n",
    "    elif 'art' in type_str or 'culture' in type_str:\n",
    "        return 8\n",
    "    elif 'sport' in type_str:\n",
    "        return 9\n",
    "    elif 'Health' in type_str or 'environment' in type_str:\n",
    "        return 10\n",
    "    else:\n",
    "        return 0"
   ]
  },
  {
   "cell_type": "raw",
   "metadata": {},
   "source": [
    "for i in db.current_event.find({},{'event.class':1}):\n",
    "    db.current_event.find_one_and_update({'_id': i['_id']}, {'$set': {'type':get_type(i['event']['class'])}}) "
   ]
  },
  {
   "cell_type": "raw",
   "metadata": {},
   "source": [
    "requests = [UpdateOne({'_id': i['_id']}, {'$set': {'type':get_type(i['event']['class'])}}) for i in tqdm(db.current_event.find({},{'event.class':1}))]\n",
    "try:\n",
    "    result = db.current_event.bulk_write(requests)\n",
    "    pprint(result.bulk_api_result)\n",
    "except BulkWriteError as bwe:\n",
    "    pprint(bwe.details)"
   ]
  },
  {
   "cell_type": "raw",
   "metadata": {},
   "source": [
    "LOCATION MISC ORGANIZATION PERSON\n",
    "NUMBER MONEY DATE DURATION ORDINAL"
   ]
  },
  {
   "cell_type": "code",
   "execution_count": 13,
   "metadata": {
    "collapsed": true
   },
   "outputs": [],
   "source": [
    "def get_ner_w(ner_dict):\n",
    "    where_who = []\n",
    "    why_what = []\n",
    "    for k,v in ner_dict.iteritems():\n",
    "        if k in ['LOCATION','MISC','ORGANIZATION','PERSON']:\n",
    "            where_who.extend(v)\n",
    "        elif k in ['NUMBER','MONEY','DATE']:#,'DURATION']:#,'ORDINAL']:\n",
    "            why_what.extend(v)\n",
    "        else:\n",
    "            pass\n",
    "    where_who = ['\"'+i+'\"' for i in where_who]\n",
    "    where_who = '('+' OR '.join(where_who)+')'\n",
    "    why_what = ['\"'+i+'\"' for i in why_what] \n",
    "    why_what = '('+' OR '.join(why_what)+')'\n",
    "    return where_who,why_what"
   ]
  },
  {
   "cell_type": "code",
   "execution_count": 14,
   "metadata": {
    "collapsed": false
   },
   "outputs": [],
   "source": [
    "def get_query_str(item):\n",
    "    date = datetime.strptime(item['event']['date'],'%Y-%m-%d')\n",
    "    since = (date+timedelta(days=-1)).strftime('%Y-%m-%d')\n",
    "    until = (date+timedelta(days=1)).strftime('%Y-%m-%d')\n",
    "    ner_dict = item['ie']['ner_dict']\n",
    "    where_who,why_what = get_ner_w(ner_dict)\n",
    "    return where_who+' '+why_what+' since:'+since+' until:'+until"
   ]
  },
  {
   "cell_type": "raw",
   "metadata": {},
   "source": [
    "l=en"
   ]
  },
  {
   "cell_type": "code",
   "execution_count": 15,
   "metadata": {
    "collapsed": false
   },
   "outputs": [
    {
     "name": "stdout",
     "output_type": "stream",
     "text": [
      "(\"Hurricane Alex\" OR \"Atlantic\" OR \"Texas\" OR \"Mexico\") (\"2010\" OR \"165\" OR \"2\" OR \"105\") since:2010-06-30 until:2010-07-02\n",
      "(\"BP\" OR \"Endangered Species Act\" OR \"United States\" OR \"Gulf of Mexico\") () since:2010-06-30 until:2010-07-02\n",
      "(\"Shenzhen\") (\"Six\" OR \"ten\") since:2010-06-30 until:2010-07-02\n",
      "(\"Russian\") () since:2010-08-02 until:2010-08-04\n",
      "(\"Iraqi\" OR \"Sulaimaniya\") (\"29\" OR \"21\") since:2010-07-15 until:2010-07-17\n",
      "(\"Israeli\" OR \"Palestinians\" OR \"West Bank\") () since:2010-07-16 until:2010-07-18\n",
      "(\"Southern China\" OR \"Philippines\" OR \"Vietnam\" OR \"Hai Phong\") (\"65\") since:2010-07-16 until:2010-07-18\n",
      "(\"Gazan\" OR \"Israel\") () since:2010-07-16 until:2010-07-18\n",
      "(\"Dalian\") (\"2,000\" OR \"two\") since:2010-07-16 until:2010-07-18\n",
      "(\"Greece\") (\"summer\") since:2010-07-16 until:2010-07-18\n",
      "(\"Pukë\" OR \"Albania\") (\"12\" OR \"14\") since:2010-07-17 until:2010-07-19\n",
      "(\"United Nations\" OR \"Israel\" OR \"Gaza\") (\"December 2008\" OR \"225\") since:2010-07-17 until:2010-07-19\n",
      "(\"New Britain\" OR \"Papua New Guinea\") (\"7.3\" OR \"two\") since:2010-07-17 until:2010-07-19\n",
      "(\"India\" OR \"Birbhum\" OR \"West Bengal\") (\"Two\" OR \"50\") since:2010-07-18 until:2010-07-20\n",
      "(\"Chinese\" OR \"Dalian\") (\"50\" OR \"two\") since:2010-07-18 until:2010-07-20\n"
     ]
    }
   ],
   "source": [
    "for item in db.current_event.find({'type':2},{'event.date':1,'ie.ner_dict':1}).limit(15):\n",
    "    print get_query_str(item)"
   ]
  },
  {
   "cell_type": "code",
   "execution_count": 17,
   "metadata": {
    "collapsed": true
   },
   "outputs": [],
   "source": [
    "import sys\n",
    "reload(sys)\n",
    "sys.setdefaultencoding('utf-8')"
   ]
  },
  {
   "cell_type": "code",
   "execution_count": 18,
   "metadata": {
    "collapsed": true
   },
   "outputs": [],
   "source": [
    "word2vec_dir = u'C:/Users/lxp/Desktop/nlp/事件识别与抽取/dataset/glove.840B.300d.word2vec.txt'"
   ]
  },
  {
   "cell_type": "code",
   "execution_count": 19,
   "metadata": {
    "collapsed": false
   },
   "outputs": [],
   "source": [
    "from gensim.models.word2vec import Word2Vec\n",
    "wv = Word2Vec.load_word2vec_format(word2vec_dir,binary=False)"
   ]
  },
  {
   "cell_type": "raw",
   "metadata": {},
   "source": [
    "wv.wv['disaster']"
   ]
  },
  {
   "cell_type": "code",
   "execution_count": 21,
   "metadata": {
    "collapsed": false
   },
   "outputs": [
    {
     "data": {
      "text/plain": [
       "[(u'disasters', 0.8176724910736084),\n",
       " (u'catastrophe', 0.7899595499038696),\n",
       " (u'catastrophic', 0.731852650642395),\n",
       " (u'calamity', 0.68067467212677),\n",
       " (u'crisis', 0.6719868779182434),\n",
       " (u'Disaster', 0.6718685626983643),\n",
       " (u'aftermath', 0.6681604981422424),\n",
       " (u'devastation', 0.6608259677886963),\n",
       " (u'tsunami', 0.6606495380401611),\n",
       " (u'tragedy', 0.6545232534408569)]"
      ]
     },
     "execution_count": 21,
     "metadata": {},
     "output_type": "execute_result"
    }
   ],
   "source": [
    "wv.most_similar(positive=['disaster'])"
   ]
  },
  {
   "cell_type": "code",
   "execution_count": 28,
   "metadata": {
    "collapsed": false
   },
   "outputs": [
    {
     "data": {
      "text/plain": [
       "0.12740960260070727"
      ]
     },
     "execution_count": 28,
     "metadata": {},
     "output_type": "execute_result"
    }
   ],
   "source": [
    "wv.similarity('Disater','hurricane')"
   ]
  },
  {
   "cell_type": "code",
   "execution_count": 25,
   "metadata": {
    "collapsed": false
   },
   "outputs": [
    {
     "data": {
      "text/plain": [
       "0.17239310841106883"
      ]
     },
     "execution_count": 25,
     "metadata": {},
     "output_type": "execute_result"
    }
   ],
   "source": [
    "wv.similarity('disaster','texas')"
   ]
  },
  {
   "cell_type": "code",
   "execution_count": 24,
   "metadata": {
    "collapsed": false
   },
   "outputs": [
    {
     "data": {
      "text/plain": [
       "{u'_id': ObjectId('59fbc9fa60b18848c5a4d015'),\n",
       " u'event': {u'date': u'2010-07-19'},\n",
       " u'ie': {u'ner_dict': {u'LOCATION': [u'Dalian'],\n",
       "   u'MISC': [u'Chinese'],\n",
       "   u'NUMBER': [u'50', u'two']}}}"
      ]
     },
     "execution_count": 24,
     "metadata": {},
     "output_type": "execute_result"
    }
   ],
   "source": [
    "item"
   ]
  },
  {
   "cell_type": "code",
   "execution_count": 37,
   "metadata": {
    "collapsed": true
   },
   "outputs": [],
   "source": [
    "import re"
   ]
  },
  {
   "cell_type": "code",
   "execution_count": 44,
   "metadata": {
    "collapsed": true
   },
   "outputs": [],
   "source": [
    "def trigger_class_description(class_,des,top=1):\n",
    "    print class_\n",
    "    class_ = re.sub('and','',class_)\n",
    "    class_ = class_.lower().split(' ')[0]\n",
    "    print class_\n",
    "    des = des.lower().split(' ')\n",
    "    sims = [wv.similarity(class_,i) for i in des]\n",
    "    sims.sort()\n",
    "    return sims[-top:-1]"
   ]
  },
  {
   "cell_type": "code",
   "execution_count": 51,
   "metadata": {
    "collapsed": false
   },
   "outputs": [],
   "source": [
    "for item in db.current_event.find({'type':2}).limit(3):\n",
    "    print item\n",
    "    #print trigger_class_description(item['event']['class'],item['event']['title']+' .'+item['event']['description'])"
   ]
  },
  {
   "cell_type": "code",
   "execution_count": null,
   "metadata": {
    "collapsed": true
   },
   "outputs": [],
   "source": [
    "def preprocess_title_description(doc):\n",
    "    doc = re.sub('\\([\\w ]+\\)','',doc)\n",
    "    doc = re.sub('\\.','',doc)"
   ]
  },
  {
   "cell_type": "code",
   "execution_count": 48,
   "metadata": {
    "collapsed": false
   },
   "outputs": [
    {
     "data": {
      "text/plain": [
       "{u'_id': ObjectId('59fbc9fa60b18848c5a4ce63'),\n",
       " u'event': {u'class': u'Disasters and accidents',\n",
       "  u'date': u'2010-07-01',\n",
       "  u'description': u'Six people are killed and ten others injured in Shenzhen after a space shuttle simulator ride plunged to the ground at a popular amusement park. (ntdtv)',\n",
       "  u'title': u''},\n",
       " u'ie': {u'ner_dict': {u'LOCATION': [u'Shenzhen'],\n",
       "   u'NUMBER': [u'Six', u'ten']},\n",
       "  u'openie': {u'object': u'Shenzhen',\n",
       "   u'relation': u'are',\n",
       "   u'subject': u'people ten others'}},\n",
       " u'type': 2}"
      ]
     },
     "execution_count": 48,
     "metadata": {},
     "output_type": "execute_result"
    }
   ],
   "source": [
    "item"
   ]
  },
  {
   "cell_type": "code",
   "execution_count": 63,
   "metadata": {
    "collapsed": false
   },
   "outputs": [
    {
     "data": {
      "text/plain": [
       "0.40956288158834531"
      ]
     },
     "execution_count": 63,
     "metadata": {},
     "output_type": "execute_result"
    }
   ],
   "source": [
    "wv.similarity('kills','injure')"
   ]
  },
  {
   "cell_type": "code",
   "execution_count": 65,
   "metadata": {
    "collapsed": true
   },
   "outputs": [],
   "source": [
    "def basic_cleaning2(string):\n",
    "    string = str(string)\n",
    "    string = re.sub('[0-9\\(\\)\\!\\^\\%\\$\\'\\\"\\.;,-\\?\\{\\}\\[\\]\\\\/]', ' ', string)\n",
    "    string = re.sub(' +', ' ', string)\n",
    "    return string"
   ]
  },
  {
   "cell_type": "code",
   "execution_count": 66,
   "metadata": {
    "collapsed": false
   },
   "outputs": [
    {
     "data": {
      "text/plain": [
       "'Six people are killed and ten others injured in Shenzhen after a space shuttle simulator ride plunged to the ground at a popular amusement park ntdtv '"
      ]
     },
     "execution_count": 66,
     "metadata": {},
     "output_type": "execute_result"
    }
   ],
   "source": [
    "basic_cleaning2('Six people are killed and ten others injured in Shenzhen after a space shuttle simulator ride plunged to the ground at a popular amusement park. (ntdtv)')"
   ]
  },
  {
   "cell_type": "code",
   "execution_count": null,
   "metadata": {
    "collapsed": true
   },
   "outputs": [],
   "source": []
  }
 ],
 "metadata": {
  "anaconda-cloud": {},
  "kernelspec": {
   "display_name": "Python [default]",
   "language": "python",
   "name": "python2"
  },
  "language_info": {
   "codemirror_mode": {
    "name": "ipython",
    "version": 2
   },
   "file_extension": ".py",
   "mimetype": "text/x-python",
   "name": "python",
   "nbconvert_exporter": "python",
   "pygments_lexer": "ipython2",
   "version": "2.7.12"
  },
  "toc": {
   "colors": {
    "hover_highlight": "#DAA520",
    "navigate_num": "#000000",
    "navigate_text": "#333333",
    "running_highlight": "#FF0000",
    "selected_highlight": "#FFD700",
    "sidebar_border": "#EEEEEE",
    "wrapper_background": "#FFFFFF"
   },
   "moveMenuLeft": true,
   "nav_menu": {
    "height": "12px",
    "width": "252px"
   },
   "navigate_menu": true,
   "number_sections": true,
   "sideBar": true,
   "threshold": 4,
   "toc_cell": false,
   "toc_section_display": "block",
   "toc_window_display": false,
   "widenNotebook": false
  }
 },
 "nbformat": 4,
 "nbformat_minor": 2
}
