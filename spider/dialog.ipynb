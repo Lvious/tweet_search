{
 "cells": [
  {
   "cell_type": "markdown",
   "metadata": {},
   "source": [
    "## dialog"
   ]
  },
  {
   "cell_type": "code",
   "execution_count": 1,
   "metadata": {
    "collapsed": false
   },
   "outputs": [],
   "source": [
    "from pyquery import PyQuery"
   ]
  },
  {
   "cell_type": "code",
   "execution_count": 2,
   "metadata": {
    "collapsed": true
   },
   "outputs": [],
   "source": [
    "import requests"
   ]
  },
  {
   "cell_type": "code",
   "execution_count": 3,
   "metadata": {
    "collapsed": false
   },
   "outputs": [],
   "source": [
    "import got"
   ]
  },
  {
   "cell_type": "code",
   "execution_count": 4,
   "metadata": {
    "collapsed": true
   },
   "outputs": [],
   "source": [
    "headers  = {'User-Agent':'Mozilla/5.0 (Windows NT 10.0; WOW64) AppleWebKit/537.36 (KHTML, like Gecko) Chrome/55.0.2883.87 Safari/532.31'}"
   ]
  },
  {
   "cell_type": "raw",
   "metadata": {},
   "source": [
    "url = 'https://twitter.com/i/realDonaldTrump/conversation/935340092583006208?include_available_features=1&include_entities=1&max_position=&reset_error_state=false'"
   ]
  },
  {
   "cell_type": "raw",
   "metadata": {},
   "source": [
    "res = requests.get(url)"
   ]
  },
  {
   "cell_type": "raw",
   "metadata": {},
   "source": [
    "res.json()"
   ]
  },
  {
   "cell_type": "raw",
   "metadata": {},
   "source": [
    "items = PyQuery(res.json()['items_html'])('ol.stream-items')"
   ]
  },
  {
   "cell_type": "raw",
   "metadata": {},
   "source": [
    "for item in items:\n",
    "    print item"
   ]
  },
  {
   "cell_type": "raw",
   "metadata": {},
   "source": [
    "https://twitter.com/i/activity/retweeted_popup?id=912741016947609600\n",
    "https://twitter.com/i/activity/favorited_popup?id=912741016947609600"
   ]
  },
  {
   "cell_type": "code",
   "execution_count": 9,
   "metadata": {
    "collapsed": true
   },
   "outputs": [],
   "source": [
    "import random"
   ]
  },
  {
   "cell_type": "code",
   "execution_count": 6,
   "metadata": {
    "collapsed": true
   },
   "outputs": [],
   "source": [
    "import pdb"
   ]
  },
  {
   "cell_type": "code",
   "execution_count": 10,
   "metadata": {
    "collapsed": true
   },
   "outputs": [],
   "source": [
    "def fetch_activities(tweet_id):\n",
    "\tretusers = []\n",
    "\tfavorusers = []\n",
    "\tre_url = 'https://twitter.com/i/activity/retweeted_popup?id=%s'%(tweet_id)\n",
    "\tfavor_url = 'https://twitter.com/i/activity/favorited_popup?id=%s'%(tweet_id)\n",
    "\theaders = {\n",
    "\t\t\t'Host':\"twitter.com\",\n",
    "\t\t\t'User-Agent':'Mozilla/5.0 (Windows NT 10.0; WOW64) AppleWebKit/537.36 (KHTML, like Gecko) Chrome/55.0.2883.87 Safari/537.%s'%(random.randint(0,999)),\n",
    "\t\t\t'Accept':\"application/json, text/javascript, */*; q=0.01\",\n",
    "\t\t\t'Accept-Language':\"de,en-US;q=0.7,en;q=0.3\",\n",
    "\t\t\t'X-Requested-With':\"XMLHttpRequest\",\n",
    "\t\t\t'Referer':'https://twitter.com/',\n",
    "\t\t\t'Connection':\"keep-alive\",\n",
    "\t\t}\n",
    "\tpdb.set_trace()\n",
    "\tre_users = PyQuery(re_url,headers=headers)('ol.activity-popup-users')\n",
    "\tfor re_user in re_users('div.account'):\n",
    "\t\tretusers.append(re_user.attr('data-screen-name'))\n",
    "\tfavor_users = PyQuery(favor_url,headers=headers)('ol.activity-popup-users')\n",
    "\tfor favor_user in favor_users('div.account'):\n",
    "\t\tfavorusers.append(favor_user.attr('data-screen-name'))\n",
    "\t\t\n",
    "\treturn retusers,favorusers"
   ]
  },
  {
   "cell_type": "raw",
   "metadata": {},
   "source": [
    "fetch_activities(912741016947609600)"
   ]
  },
  {
   "cell_type": "code",
   "execution_count": null,
   "metadata": {
    "collapsed": true
   },
   "outputs": [],
   "source": [
    "ol.activity-popup-users dropdown-threshold | div.account  js-actionable-user js-profile-popup-actionable |data-screen-name"
   ]
  },
  {
   "cell_type": "code",
   "execution_count": null,
   "metadata": {
    "collapsed": true
   },
   "outputs": [],
   "source": [
    "htmlUsers"
   ]
  },
  {
   "cell_type": "code",
   "execution_count": null,
   "metadata": {
    "collapsed": true
   },
   "outputs": [],
   "source": [
    "dialog = got.manager.DialogManager.getDialogById(935433391654051840)"
   ]
  },
  {
   "cell_type": "code",
   "execution_count": null,
   "metadata": {
    "collapsed": false
   },
   "outputs": [],
   "source": [
    "dialog['original'].__dict__"
   ]
  },
  {
   "cell_type": "code",
   "execution_count": null,
   "metadata": {
    "collapsed": true
   },
   "outputs": [],
   "source": []
  },
  {
   "cell_type": "raw",
   "metadata": {},
   "source": [
    "tweet.__dict__"
   ]
  },
  {
   "cell_type": "raw",
   "metadata": {
    "collapsed": false
   },
   "source": [
    "tweetCriteria = got.manager.TweetCriteria().setQuerySearch('ack linux').setTweetType('f=news').setMaxTweets(40)\n",
    "tweets = got.manager.TweetManager.getTweets(tweetCriteria)"
   ]
  },
  {
   "cell_type": "raw",
   "metadata": {},
   "source": [
    "len(tweets)"
   ]
  },
  {
   "cell_type": "raw",
   "metadata": {
    "collapsed": true
   },
   "source": [
    "for i in tweets:\n",
    "    print i.__dict__"
   ]
  },
  {
   "cell_type": "raw",
   "metadata": {},
   "source": [
    "  ancestor\n",
    "    has-replies\n",
    "  original-permalink-page\n",
    "\n",
    "descendant permalink-descendant-tweet"
   ]
  },
  {
   "cell_type": "markdown",
   "metadata": {},
   "source": [
    "## tweet"
   ]
  },
  {
   "cell_type": "raw",
   "metadata": {},
   "source": [
    "tweetPQ('p.js-tweet-text a').filter(lambda i: PyQuery(this).attr('data-expanded-url') != None)"
   ]
  },
  {
   "cell_type": "code",
   "execution_count": null,
   "metadata": {
    "collapsed": true
   },
   "outputs": [],
   "source": []
  },
  {
   "cell_type": "raw",
   "metadata": {
    "collapsed": false
   },
   "source": [
    "html = requests.get('https://twitter.com/GailDavvis/status/935342611065339907',headers=headers)\n",
    "doc = PyQuery(html.content)\n",
    "tweetPQ = PyQuery(doc)"
   ]
  },
  {
   "cell_type": "raw",
   "metadata": {
    "collapsed": true
   },
   "source": [
    "def fetch_entities(tweetPQ):\n",
    "\thashtags = []\n",
    "\turls = []\n",
    "\tfor url in tweetPQ('p.js-tweet-text a'):\n",
    "\t\td = dict(url.items())\n",
    "\t\tif d['class'] == 'twitter-timeline-link':\n",
    "\t\t\t\turls.append({'href':d['href'],'expanded_url':d['data-expanded-url']})\n",
    "\t\tif d['href'].startswith('/hashtag/'):\n",
    "\t\t\t\thashtags.append(d['href'].split('?')[0].split('/')[-1])\n",
    "\ttweetPQ('p.js-tweet-text a.twitter-timeline-link').remove()\n",
    "\treturn hashtags,urls"
   ]
  },
  {
   "cell_type": "raw",
   "metadata": {
    "collapsed": false
   },
   "source": [
    "tweetPQ('p.js-tweet-text a')"
   ]
  },
  {
   "cell_type": "raw",
   "metadata": {
    "collapsed": false
   },
   "source": [
    "fetch_entities(tweetPQ)"
   ]
  },
  {
   "cell_type": "raw",
   "metadata": {
    "collapsed": false
   },
   "source": [
    "tweetPQ('p.js-tweet-text a')"
   ]
  }
 ],
 "metadata": {
  "anaconda-cloud": {},
  "kernelspec": {
   "display_name": "Python [default]",
   "language": "python",
   "name": "python2"
  },
  "language_info": {
   "codemirror_mode": {
    "name": "ipython",
    "version": 2
   },
   "file_extension": ".py",
   "mimetype": "text/x-python",
   "name": "python",
   "nbconvert_exporter": "python",
   "pygments_lexer": "ipython2",
   "version": "2.7.12"
  },
  "toc": {
   "colors": {
    "hover_highlight": "#DAA520",
    "navigate_num": "#000000",
    "navigate_text": "#333333",
    "running_highlight": "#FF0000",
    "selected_highlight": "#FFD700",
    "sidebar_border": "#EEEEEE",
    "wrapper_background": "#FFFFFF"
   },
   "moveMenuLeft": true,
   "nav_menu": {
    "height": "12px",
    "width": "252px"
   },
   "navigate_menu": true,
   "number_sections": true,
   "sideBar": true,
   "threshold": 4,
   "toc_cell": false,
   "toc_section_display": "block",
   "toc_window_display": true,
   "widenNotebook": false
  }
 },
 "nbformat": 4,
 "nbformat_minor": 2
}
