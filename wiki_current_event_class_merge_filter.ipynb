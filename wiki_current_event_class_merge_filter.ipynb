{
 "cells": [
  {
   "cell_type": "code",
   "execution_count": 31,
   "metadata": {
    "collapsed": true
   },
   "outputs": [],
   "source": [
    "import pymongo\n",
    "from pymongo import InsertOne,UpdateOne\n",
    "from pymongo.errors import BulkWriteError\n",
    "client = pymongo.MongoClient('101.132.114.125:27017')\n",
    "db = client.tweet"
   ]
  },
  {
   "cell_type": "code",
   "execution_count": 3,
   "metadata": {
    "collapsed": true
   },
   "outputs": [],
   "source": [
    "classses = []\n",
    "for i in db.current_event.find({},{'event.class':1}):\n",
    "    classses.append(i['event']['class'])"
   ]
  },
  {
   "cell_type": "code",
   "execution_count": 6,
   "metadata": {
    "collapsed": false
   },
   "outputs": [
    {
     "data": {
      "text/plain": [
       "35269"
      ]
     },
     "execution_count": 6,
     "metadata": {},
     "output_type": "execute_result"
    }
   ],
   "source": [
    "len(classses)"
   ]
  },
  {
   "cell_type": "code",
   "execution_count": 9,
   "metadata": {
    "collapsed": false
   },
   "outputs": [],
   "source": [
    "from collections import Counter"
   ]
  },
  {
   "cell_type": "code",
   "execution_count": 10,
   "metadata": {
    "collapsed": true
   },
   "outputs": [],
   "source": [
    "count = Counter(classses)"
   ]
  },
  {
   "cell_type": "code",
   "execution_count": 15,
   "metadata": {
    "collapsed": true
   },
   "outputs": [],
   "source": [
    "def is_type_one(type_str):\n",
    "    type_str = type_str.lower()\n",
    "    return 'armed' in type_str or 'attack' in type_str or 'conflict' in type_str"
   ]
  },
  {
   "cell_type": "code",
   "execution_count": 16,
   "metadata": {
    "collapsed": true
   },
   "outputs": [],
   "source": [
    "def is_type_two(type_str):\n",
    "    type_str = type_str.lower()\n",
    "    return 'disaster' in type_str or 'accident' in type_str"
   ]
  },
  {
   "cell_type": "code",
   "execution_count": 17,
   "metadata": {
    "collapsed": true
   },
   "outputs": [],
   "source": [
    "def is_type_three(type_str):\n",
    "    type_str = type_str.lower()\n",
    "    return 'law' in type_str or 'crime' in type_str"
   ]
  },
  {
   "cell_type": "code",
   "execution_count": 18,
   "metadata": {
    "collapsed": true
   },
   "outputs": [],
   "source": [
    "def is_type_four(type_str):\n",
    "    type_str = type_str.lower()\n",
    "    return 'politic' in type_str or 'election' in type_str"
   ]
  },
  {
   "cell_type": "code",
   "execution_count": 19,
   "metadata": {
    "collapsed": true
   },
   "outputs": [],
   "source": [
    "def is_type_five(type_str):\n",
    "    type_str = type_str.lower()\n",
    "    return 'international' in type_str or 'relation' in type_str"
   ]
  },
  {
   "cell_type": "code",
   "execution_count": 27,
   "metadata": {
    "collapsed": true
   },
   "outputs": [],
   "source": [
    "def get_type(type_str):\n",
    "    type_str = type_str.lower()\n",
    "    if 'armed' in type_str or 'attack' in type_str or 'conflict' in type_str:\n",
    "        return 1\n",
    "    elif 'disaster' in type_str or 'accident' in type_str:\n",
    "        return 2\n",
    "    elif 'law' in type_str or 'crime' in type_str:\n",
    "        return 3\n",
    "    elif 'politic' in type_str or 'election' in type_str:\n",
    "        return 4\n",
    "    elif 'international' in type_str or 'relation' in type_str:\n",
    "        return 5\n",
    "    elif 'science' in type_str or 'technology' in type_str:\n",
    "        return 6\n",
    "    elif 'business' in type_str or 'econom' in type_str:\n",
    "        return 7\n",
    "    elif 'art' in type_str or 'culture' in type_str:\n",
    "        return 8\n",
    "    elif 'sport' in type_str:\n",
    "        return 9\n",
    "    elif 'Health' in type_str or 'environment' in type_str:\n",
    "        return 10\n",
    "    else:\n",
    "        return 0"
   ]
  },
  {
   "cell_type": "raw",
   "metadata": {},
   "source": [
    "for i in db.current_event.find({},{'event.class':1}):\n",
    "    db.current_event.find_one_and_update({'_id': i['_id']}, {'$set': {'type':get_type(i['event']['class'])}}) "
   ]
  },
  {
   "cell_type": "code",
   "execution_count": 34,
   "metadata": {
    "collapsed": true
   },
   "outputs": [],
   "source": [
    "from tqdm import tqdm"
   ]
  },
  {
   "cell_type": "raw",
   "metadata": {},
   "source": [
    "requests = [UpdateOne({'_id': i['_id']}, {'$set': {'type':get_type(i['event']['class'])}}) for i in tqdm(db.current_event.find({},{'event.class':1}))]\n",
    "try:\n",
    "    result = db.current_event.bulk_write(requests)\n",
    "    pprint(result.bulk_api_result)\n",
    "except BulkWriteError as bwe:\n",
    "    pprint(bwe.details)"
   ]
  },
  {
   "cell_type": "code",
   "execution_count": null,
   "metadata": {
    "collapsed": true
   },
   "outputs": [],
   "source": []
  }
 ],
 "metadata": {
  "anaconda-cloud": {},
  "kernelspec": {
   "display_name": "Python [default]",
   "language": "python",
   "name": "python2"
  },
  "language_info": {
   "codemirror_mode": {
    "name": "ipython",
    "version": 2
   },
   "file_extension": ".py",
   "mimetype": "text/x-python",
   "name": "python",
   "nbconvert_exporter": "python",
   "pygments_lexer": "ipython2",
   "version": "2.7.12"
  },
  "toc": {
   "colors": {
    "hover_highlight": "#DAA520",
    "navigate_num": "#000000",
    "navigate_text": "#333333",
    "running_highlight": "#FF0000",
    "selected_highlight": "#FFD700",
    "sidebar_border": "#EEEEEE",
    "wrapper_background": "#FFFFFF"
   },
   "moveMenuLeft": true,
   "nav_menu": {
    "height": "12px",
    "width": "252px"
   },
   "navigate_menu": true,
   "number_sections": true,
   "sideBar": true,
   "threshold": 4,
   "toc_cell": false,
   "toc_section_display": "block",
   "toc_window_display": false,
   "widenNotebook": false
  }
 },
 "nbformat": 4,
 "nbformat_minor": 2
}
